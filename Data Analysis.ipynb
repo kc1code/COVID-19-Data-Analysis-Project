{
 "cells": [
  {
   "cell_type": "code",
   "execution_count": null,
   "id": "ece8b2fe-4481-46ed-be82-480e10f966e4",
   "metadata": {},
   "outputs": [],
   "source": [
    "## 1️⃣ Import libraries"
   ]
  },
  {
   "cell_type": "code",
   "execution_count": 6,
   "id": "c68ea426-a925-48a9-b544-437bf56a2718",
   "metadata": {},
   "outputs": [],
   "source": [
    "import pandas as pd\n",
    "import numpy as np\n",
    "import matplotlib.pyplot as plt"
   ]
  },
  {
   "cell_type": "code",
   "execution_count": null,
   "id": "72f2dce2-8769-41aa-a89a-be2e19893a00",
   "metadata": {},
   "outputs": [],
   "source": [
    "## 2️⃣ Load the Datasets"
   ]
  },
  {
   "cell_type": "code",
   "execution_count": 7,
   "id": "9407b442-6ccf-4451-93d5-352edb136406",
   "metadata": {},
   "outputs": [],
   "source": [
    "covid_cases = pd.read_csv('covid_19_india.csv')\n",
    "covid_vaccine = pd.read_csv('covid_vaccine_statewise.csv')  \n",
    "covid_testing = pd.read_csv('StatewiseTestingDetails.csv')"
   ]
  },
  {
   "cell_type": "code",
   "execution_count": 8,
   "id": "d0b6115e-d491-4959-84b4-8615ae5f7d2f",
   "metadata": {},
   "outputs": [
    {
     "data": {
      "text/html": [
       "<div>\n",
       "<style scoped>\n",
       "    .dataframe tbody tr th:only-of-type {\n",
       "        vertical-align: middle;\n",
       "    }\n",
       "\n",
       "    .dataframe tbody tr th {\n",
       "        vertical-align: top;\n",
       "    }\n",
       "\n",
       "    .dataframe thead th {\n",
       "        text-align: right;\n",
       "    }\n",
       "</style>\n",
       "<table border=\"1\" class=\"dataframe\">\n",
       "  <thead>\n",
       "    <tr style=\"text-align: right;\">\n",
       "      <th></th>\n",
       "      <th>Sno</th>\n",
       "      <th>Date</th>\n",
       "      <th>Time</th>\n",
       "      <th>State/UnionTerritory</th>\n",
       "      <th>ConfirmedIndianNational</th>\n",
       "      <th>ConfirmedForeignNational</th>\n",
       "      <th>Cured</th>\n",
       "      <th>Deaths</th>\n",
       "      <th>Confirmed</th>\n",
       "    </tr>\n",
       "  </thead>\n",
       "  <tbody>\n",
       "    <tr>\n",
       "      <th>0</th>\n",
       "      <td>1</td>\n",
       "      <td>2020-01-30</td>\n",
       "      <td>6:00 PM</td>\n",
       "      <td>Kerala</td>\n",
       "      <td>1</td>\n",
       "      <td>0</td>\n",
       "      <td>0</td>\n",
       "      <td>0</td>\n",
       "      <td>1</td>\n",
       "    </tr>\n",
       "    <tr>\n",
       "      <th>1</th>\n",
       "      <td>2</td>\n",
       "      <td>2020-01-31</td>\n",
       "      <td>6:00 PM</td>\n",
       "      <td>Kerala</td>\n",
       "      <td>1</td>\n",
       "      <td>0</td>\n",
       "      <td>0</td>\n",
       "      <td>0</td>\n",
       "      <td>1</td>\n",
       "    </tr>\n",
       "    <tr>\n",
       "      <th>2</th>\n",
       "      <td>3</td>\n",
       "      <td>2020-02-01</td>\n",
       "      <td>6:00 PM</td>\n",
       "      <td>Kerala</td>\n",
       "      <td>2</td>\n",
       "      <td>0</td>\n",
       "      <td>0</td>\n",
       "      <td>0</td>\n",
       "      <td>2</td>\n",
       "    </tr>\n",
       "    <tr>\n",
       "      <th>3</th>\n",
       "      <td>4</td>\n",
       "      <td>2020-02-02</td>\n",
       "      <td>6:00 PM</td>\n",
       "      <td>Kerala</td>\n",
       "      <td>3</td>\n",
       "      <td>0</td>\n",
       "      <td>0</td>\n",
       "      <td>0</td>\n",
       "      <td>3</td>\n",
       "    </tr>\n",
       "    <tr>\n",
       "      <th>4</th>\n",
       "      <td>5</td>\n",
       "      <td>2020-02-03</td>\n",
       "      <td>6:00 PM</td>\n",
       "      <td>Kerala</td>\n",
       "      <td>3</td>\n",
       "      <td>0</td>\n",
       "      <td>0</td>\n",
       "      <td>0</td>\n",
       "      <td>3</td>\n",
       "    </tr>\n",
       "  </tbody>\n",
       "</table>\n",
       "</div>"
      ],
      "text/plain": [
       "   Sno        Date     Time State/UnionTerritory ConfirmedIndianNational  \\\n",
       "0    1  2020-01-30  6:00 PM               Kerala                       1   \n",
       "1    2  2020-01-31  6:00 PM               Kerala                       1   \n",
       "2    3  2020-02-01  6:00 PM               Kerala                       2   \n",
       "3    4  2020-02-02  6:00 PM               Kerala                       3   \n",
       "4    5  2020-02-03  6:00 PM               Kerala                       3   \n",
       "\n",
       "  ConfirmedForeignNational  Cured  Deaths  Confirmed  \n",
       "0                        0      0       0          1  \n",
       "1                        0      0       0          1  \n",
       "2                        0      0       0          2  \n",
       "3                        0      0       0          3  \n",
       "4                        0      0       0          3  "
      ]
     },
     "execution_count": 8,
     "metadata": {},
     "output_type": "execute_result"
    }
   ],
   "source": [
    "# Display first few rows\n",
    "covid_cases.head()"
   ]
  },
  {
   "cell_type": "code",
   "execution_count": 13,
   "id": "186a846e-0fe9-40d5-85e4-1552ac5f4bd6",
   "metadata": {},
   "outputs": [
    {
     "name": "stdout",
     "output_type": "stream",
     "text": [
      "<class 'pandas.core.frame.DataFrame'>\n",
      "RangeIndex: 18110 entries, 0 to 18109\n",
      "Data columns (total 9 columns):\n",
      " #   Column                    Non-Null Count  Dtype         \n",
      "---  ------                    --------------  -----         \n",
      " 0   Sno                       18110 non-null  int64         \n",
      " 1   Date                      18110 non-null  datetime64[ns]\n",
      " 2   Time                      18110 non-null  object        \n",
      " 3   State/UnionTerritory      18110 non-null  object        \n",
      " 4   ConfirmedIndianNational   18110 non-null  object        \n",
      " 5   ConfirmedForeignNational  18110 non-null  object        \n",
      " 6   Cured                     18110 non-null  int64         \n",
      " 7   Deaths                    18110 non-null  int64         \n",
      " 8   Confirmed                 18110 non-null  int64         \n",
      "dtypes: datetime64[ns](1), int64(4), object(4)\n",
      "memory usage: 1.2+ MB\n",
      "None\n",
      "<class 'pandas.core.frame.DataFrame'>\n",
      "RangeIndex: 7845 entries, 0 to 7844\n",
      "Data columns (total 24 columns):\n",
      " #   Column                               Non-Null Count  Dtype         \n",
      "---  ------                               --------------  -----         \n",
      " 0   Updated On                           7845 non-null   datetime64[ns]\n",
      " 1   State                                7845 non-null   object        \n",
      " 2   Total Doses Administered             7621 non-null   float64       \n",
      " 3   Sessions                             7621 non-null   float64       \n",
      " 4    Sites                               7621 non-null   float64       \n",
      " 5   First Dose Administered              7621 non-null   float64       \n",
      " 6   Second Dose Administered             7621 non-null   float64       \n",
      " 7   Male (Doses Administered)            7461 non-null   float64       \n",
      " 8   Female (Doses Administered)          7461 non-null   float64       \n",
      " 9   Transgender (Doses Administered)     7461 non-null   float64       \n",
      " 10   Covaxin (Doses Administered)        7621 non-null   float64       \n",
      " 11  CoviShield (Doses Administered)      7621 non-null   float64       \n",
      " 12  Sputnik V (Doses Administered)       2995 non-null   float64       \n",
      " 13  AEFI                                 5438 non-null   float64       \n",
      " 14  18-44 Years (Doses Administered)     1702 non-null   float64       \n",
      " 15  45-60 Years (Doses Administered)     1702 non-null   float64       \n",
      " 16  60+ Years (Doses Administered)       1702 non-null   float64       \n",
      " 17  18-44 Years(Individuals Vaccinated)  3733 non-null   float64       \n",
      " 18  45-60 Years(Individuals Vaccinated)  3734 non-null   float64       \n",
      " 19  60+ Years(Individuals Vaccinated)    3734 non-null   float64       \n",
      " 20  Male(Individuals Vaccinated)         160 non-null    float64       \n",
      " 21  Female(Individuals Vaccinated)       160 non-null    float64       \n",
      " 22  Transgender(Individuals Vaccinated)  160 non-null    float64       \n",
      " 23  Total Individuals Vaccinated         5919 non-null   float64       \n",
      "dtypes: datetime64[ns](1), float64(22), object(1)\n",
      "memory usage: 1.4+ MB\n",
      "None\n",
      "<class 'pandas.core.frame.DataFrame'>\n",
      "RangeIndex: 16336 entries, 0 to 16335\n",
      "Data columns (total 5 columns):\n",
      " #   Column        Non-Null Count  Dtype         \n",
      "---  ------        --------------  -----         \n",
      " 0   Date          16336 non-null  datetime64[ns]\n",
      " 1   State         16336 non-null  object        \n",
      " 2   TotalSamples  16336 non-null  float64       \n",
      " 3   Negative      6969 non-null   object        \n",
      " 4   Positive      5662 non-null   float64       \n",
      "dtypes: datetime64[ns](1), float64(2), object(2)\n",
      "memory usage: 638.3+ KB\n",
      "None\n"
     ]
    }
   ],
   "source": [
    " ## 3️⃣ Explore the Data\n",
    "# Check dataset info\n",
    "print(covid_cases.info())  \n",
    "print(covid_vaccine.info())  \n",
    "print(covid_testing.info())  "
   ]
  },
  {
   "cell_type": "code",
   "execution_count": 10,
   "id": "3c446611-5c46-491e-89be-e6a9f7620809",
   "metadata": {},
   "outputs": [
    {
     "name": "stdout",
     "output_type": "stream",
     "text": [
      "Sno                         0\n",
      "Date                        0\n",
      "Time                        0\n",
      "State/UnionTerritory        0\n",
      "ConfirmedIndianNational     0\n",
      "ConfirmedForeignNational    0\n",
      "Cured                       0\n",
      "Deaths                      0\n",
      "Confirmed                   0\n",
      "dtype: int64\n",
      "Updated On                                0\n",
      "State                                     0\n",
      "Total Doses Administered                224\n",
      "Sessions                                224\n",
      " Sites                                  224\n",
      "First Dose Administered                 224\n",
      "Second Dose Administered                224\n",
      "Male (Doses Administered)               384\n",
      "Female (Doses Administered)             384\n",
      "Transgender (Doses Administered)        384\n",
      " Covaxin (Doses Administered)           224\n",
      "CoviShield (Doses Administered)         224\n",
      "Sputnik V (Doses Administered)         4850\n",
      "AEFI                                   2407\n",
      "18-44 Years (Doses Administered)       6143\n",
      "45-60 Years (Doses Administered)       6143\n",
      "60+ Years (Doses Administered)         6143\n",
      "18-44 Years(Individuals Vaccinated)    4112\n",
      "45-60 Years(Individuals Vaccinated)    4111\n",
      "60+ Years(Individuals Vaccinated)      4111\n",
      "Male(Individuals Vaccinated)           7685\n",
      "Female(Individuals Vaccinated)         7685\n",
      "Transgender(Individuals Vaccinated)    7685\n",
      "Total Individuals Vaccinated           1926\n",
      "dtype: int64\n",
      "Date                0\n",
      "State               0\n",
      "TotalSamples        0\n",
      "Negative         9367\n",
      "Positive        10674\n",
      "dtype: int64\n"
     ]
    }
   ],
   "source": [
    "# Check missing values\n",
    "print(covid_cases.isnull().sum())  \n",
    "print(covid_vaccine.isnull().sum())  \n",
    "print(covid_testing.isnull().sum())"
   ]
  },
  {
   "cell_type": "code",
   "execution_count": 11,
   "id": "a7c52426-b1c6-4eff-9c80-800c2d75ab38",
   "metadata": {},
   "outputs": [
    {
     "name": "stdout",
     "output_type": "stream",
     "text": [
      "                Sno         Cured         Deaths     Confirmed\n",
      "count  18110.000000  1.811000e+04   18110.000000  1.811000e+04\n",
      "mean    9055.500000  2.786375e+05    4052.402264  3.010314e+05\n",
      "std     5228.051023  6.148909e+05   10919.076411  6.561489e+05\n",
      "min        1.000000  0.000000e+00       0.000000  0.000000e+00\n",
      "25%     4528.250000  3.360250e+03      32.000000  4.376750e+03\n",
      "50%     9055.500000  3.336400e+04     588.000000  3.977350e+04\n",
      "75%    13582.750000  2.788698e+05    3643.750000  3.001498e+05\n",
      "max    18110.000000  6.159676e+06  134201.000000  6.363442e+06\n",
      "       Total Doses Administered      Sessions        Sites   \\\n",
      "count              7.621000e+03  7.621000e+03   7621.000000   \n",
      "mean               9.188171e+06  4.792358e+05   2282.872064   \n",
      "std                3.746180e+07  1.911511e+06   7275.973730   \n",
      "min                7.000000e+00  0.000000e+00      0.000000   \n",
      "25%                1.356570e+05  6.004000e+03     69.000000   \n",
      "50%                8.182020e+05  4.547000e+04    597.000000   \n",
      "75%                6.625243e+06  3.428690e+05   1708.000000   \n",
      "max                5.132284e+08  3.501031e+07  73933.000000   \n",
      "\n",
      "       First Dose Administered  Second Dose Administered  \\\n",
      "count             7.621000e+03              7.621000e+03   \n",
      "mean              7.414415e+06              1.773755e+06   \n",
      "std               2.995209e+07              7.570382e+06   \n",
      "min               7.000000e+00              0.000000e+00   \n",
      "25%               1.166320e+05              1.283100e+04   \n",
      "50%               6.614590e+05              1.388180e+05   \n",
      "75%               5.387805e+06              1.166434e+06   \n",
      "max               4.001504e+08              1.130780e+08   \n",
      "\n",
      "       Male (Doses Administered)  Female (Doses Administered)  \\\n",
      "count               7.461000e+03                 7.461000e+03   \n",
      "mean                3.620156e+06                 3.168416e+06   \n",
      "std                 1.737938e+07                 1.515310e+07   \n",
      "min                 0.000000e+00                 2.000000e+00   \n",
      "25%                 5.655500e+04                 5.210700e+04   \n",
      "50%                 3.897850e+05                 3.342380e+05   \n",
      "75%                 2.735777e+06                 2.561513e+06   \n",
      "max                 2.701636e+08                 2.395186e+08   \n",
      "\n",
      "       Transgender (Doses Administered)   Covaxin (Doses Administered)  \\\n",
      "count                       7461.000000                   7.621000e+03   \n",
      "mean                        1162.978019                   1.044669e+06   \n",
      "std                         5931.353995                   4.452259e+06   \n",
      "min                            0.000000                   0.000000e+00   \n",
      "25%                            8.000000                   0.000000e+00   \n",
      "50%                          113.000000                   1.185100e+04   \n",
      "75%                          800.000000                   7.579300e+05   \n",
      "max                        98275.000000                   6.236742e+07   \n",
      "\n",
      "       CoviShield (Doses Administered)  ...  18-44 Years (Doses Administered)  \\\n",
      "count                     7.621000e+03  ...                      1.702000e+03   \n",
      "mean                      8.126553e+06  ...                      8.773958e+06   \n",
      "std                       3.298414e+07  ...                      2.660829e+07   \n",
      "min                       7.000000e+00  ...                      2.662400e+04   \n",
      "25%                       1.331340e+05  ...                      4.344842e+05   \n",
      "50%                       7.567360e+05  ...                      3.095970e+06   \n",
      "75%                       6.007817e+06  ...                      7.366241e+06   \n",
      "max                       4.468251e+08  ...                      2.243304e+08   \n",
      "\n",
      "       45-60 Years (Doses Administered)  60+ Years (Doses Administered)  \\\n",
      "count                      1.702000e+03                    1.702000e+03   \n",
      "mean                       7.442161e+06                    5.641605e+06   \n",
      "std                        2.225999e+07                    1.681650e+07   \n",
      "min                        1.681500e+04                    9.994000e+03   \n",
      "25%                        2.326275e+05                    1.285605e+05   \n",
      "50%                        2.695938e+06                    1.805696e+06   \n",
      "75%                        6.969726e+06                    5.294763e+06   \n",
      "max                        1.667575e+08                    1.186927e+08   \n",
      "\n",
      "       18-44 Years(Individuals Vaccinated)  \\\n",
      "count                         3.733000e+03   \n",
      "mean                          1.395895e+06   \n",
      "std                           5.501454e+06   \n",
      "min                           1.059000e+03   \n",
      "25%                           5.655400e+04   \n",
      "50%                           2.947270e+05   \n",
      "75%                           9.105160e+05   \n",
      "max                           9.224315e+07   \n",
      "\n",
      "       45-60 Years(Individuals Vaccinated)  60+ Years(Individuals Vaccinated)  \\\n",
      "count                         3.734000e+03                       3.734000e+03   \n",
      "mean                          2.916515e+06                       2.627444e+06   \n",
      "std                           9.567607e+06                       8.192225e+06   \n",
      "min                           1.136000e+03                       5.580000e+02   \n",
      "25%                           9.248225e+04                       5.615975e+04   \n",
      "50%                           8.330395e+05                       7.887425e+05   \n",
      "75%                           2.499280e+06                       2.337874e+06   \n",
      "max                           9.096888e+07                       6.731098e+07   \n",
      "\n",
      "       Male(Individuals Vaccinated)  Female(Individuals Vaccinated)  \\\n",
      "count                  1.600000e+02                    1.600000e+02   \n",
      "mean                   4.461687e+07                    3.951018e+07   \n",
      "std                    3.950749e+07                    3.417684e+07   \n",
      "min                    2.375700e+04                    2.451700e+04   \n",
      "25%                    5.739350e+06                    5.023407e+06   \n",
      "50%                    3.716590e+07                    3.365402e+07   \n",
      "75%                    7.441663e+07                    6.685368e+07   \n",
      "max                    1.349420e+08                    1.156684e+08   \n",
      "\n",
      "       Transgender(Individuals Vaccinated)  Total Individuals Vaccinated  \n",
      "count                           160.000000                  5.919000e+03  \n",
      "mean                          12370.543750                  4.547842e+06  \n",
      "std                           12485.026753                  1.834182e+07  \n",
      "min                               2.000000                  7.000000e+00  \n",
      "25%                            1278.750000                  7.427550e+04  \n",
      "50%                            8007.500000                  4.022880e+05  \n",
      "75%                           19851.000000                  3.501562e+06  \n",
      "max                           46462.000000                  2.506569e+08  \n",
      "\n",
      "[8 rows x 22 columns]\n",
      "       TotalSamples      Positive\n",
      "count  1.633600e+04  5.662000e+03\n",
      "mean   5.376466e+06  5.652654e+04\n",
      "std    8.780338e+06  1.673108e+05\n",
      "min    5.800000e+01  0.000000e+00\n",
      "25%    1.729098e+05  5.362500e+02\n",
      "50%    9.307580e+05  4.771000e+03\n",
      "75%    7.284795e+06  3.361875e+04\n",
      "max    6.789786e+07  1.638961e+06\n"
     ]
    }
   ],
   "source": [
    "# Basic statistics\n",
    "print(covid_cases.describe())  \n",
    "print(covid_vaccine.describe())  \n",
    "print(covid_testing.describe())  "
   ]
  },
  {
   "cell_type": "code",
   "execution_count": 15,
   "id": "aa00e4fd-5e5f-4737-bca2-1803fee1aa49",
   "metadata": {},
   "outputs": [],
   "source": [
    "# 4️⃣ Data Cleaning\n",
    "# Convert date columns\n",
    "covid_cases['Date'] = pd.to_datetime(covid_cases['Date'])  \n",
    "covid_vaccine['Updated On'] = pd.to_datetime(covid_vaccine['Updated On'])  \n",
    "covid_testing['Date'] = pd.to_datetime(covid_testing['Date']) "
   ]
  },
  {
   "cell_type": "code",
   "execution_count": 16,
   "id": "c11890e7-f8ee-47a2-b618-01127a1a2cd8",
   "metadata": {},
   "outputs": [],
   "source": [
    "# Fill missing values\n",
    "covid_cases.fillna(0, inplace=True)  \n",
    "covid_vaccine.fillna(0, inplace=True)  \n",
    "covid_testing.fillna(0, inplace=True) "
   ]
  },
  {
   "cell_type": "code",
   "execution_count": 17,
   "id": "f66dda8d-0490-41bb-8699-a5c08d9f2368",
   "metadata": {},
   "outputs": [],
   "source": [
    "# 5️⃣ COVID Cases Analysis\n",
    "## Top 10 states with the highest cases"
   ]
  },
  {
   "cell_type": "code",
   "execution_count": 18,
   "id": "81d76d79-4fdc-4782-a528-78445b771c83",
   "metadata": {},
   "outputs": [
    {
     "name": "stdout",
     "output_type": "stream",
     "text": [
      "   State/UnionTerritory  Confirmed\n",
      "27          Maharashtra    6363442\n",
      "28       Maharashtra***    6229596\n",
      "22               Kerala    3586693\n",
      "21            Karnataka    2921049\n",
      "20           Karanataka    2885238\n",
      "38           Tamil Nadu    2579130\n",
      "1        Andhra Pradesh    1985182\n",
      "43        Uttar Pradesh    1708812\n",
      "45          West Bengal    1534999\n",
      "12                Delhi    1436852\n"
     ]
    }
   ],
   "source": [
    "statewise_cases = covid_cases.groupby('State/UnionTerritory')['Confirmed'].max().reset_index()  \n",
    "statewise_cases = statewise_cases.sort_values(by='Confirmed', ascending=False).head(10)  \n",
    "print(statewise_cases)  "
   ]
  },
  {
   "cell_type": "code",
   "execution_count": 19,
   "id": "72bff3fd-ad62-42e7-89a1-904fc151c53f",
   "metadata": {},
   "outputs": [],
   "source": [
    "##Plot daily cases trend"
   ]
  },
  {
   "cell_type": "code",
   "execution_count": 20,
   "id": "e690451d-0448-4c67-b6a5-cdf8a6365ed6",
   "metadata": {},
   "outputs": [
    {
     "data": {
      "image/png": "[encoded data removed]",
      "text/plain": [
       "<Figure size 1200x500 with 1 Axes>"
      ]
     },
     "metadata": {},
     "output_type": "display_data"
    }
   ],
   "source": [
    "daily_cases = covid_cases.groupby('Date')['Confirmed'].sum().reset_index()\n",
    "\n",
    "plt.figure(figsize=(12,5))\n",
    "plt.plot(daily_cases['Date'], daily_cases['Confirmed'], color='red', marker='o', linestyle='dashed')\n",
    "plt.xlabel('Date')\n",
    "plt.ylabel('Confirmed Cases')\n",
    "plt.title('Daily COVID-19 Cases in India')\n",
    "plt.xticks(rotation=45)\n",
    "plt.grid()\n",
    "plt.show()"
   ]
  },
  {
   "cell_type": "code",
   "execution_count": 21,
   "id": "d71539dc-1472-496e-95cf-3139eaad1e9e",
   "metadata": {},
   "outputs": [],
   "source": [
    "# 6️⃣ Vaccination Analysis\n",
    "## Top 10 states with the highest vaccinations"
   ]
  },
  {
   "cell_type": "code",
   "execution_count": 22,
   "id": "c5f8efa4-f0e2-4569-b15d-8562d0bdfdad",
   "metadata": {},
   "outputs": [
    {
     "name": "stdout",
     "output_type": "stream",
     "text": [
      "             State  Total Individuals Vaccinated\n",
      "13           India                   250656880.0\n",
      "34   Uttar Pradesh                    24782239.0\n",
      "21     Maharashtra                    24046509.0\n",
      "29       Rajasthan                    19090259.0\n",
      "10         Gujarat                    18826982.0\n",
      "16       Karnataka                    17493598.0\n",
      "20  Madhya Pradesh                    16512594.0\n",
      "36     West Bengal                    15798841.0\n",
      "4            Bihar                    13127210.0\n",
      "31      Tamil Nadu                    11658908.0\n"
     ]
    }
   ],
   "source": [
    "statewise_vaccine = covid_vaccine.groupby('State')['Total Individuals Vaccinated'].max().reset_index()\n",
    "statewise_vaccine = statewise_vaccine.sort_values(by='Total Individuals Vaccinated', ascending=False).head(10)\n",
    "print(statewise_vaccine)"
   ]
  },
  {
   "cell_type": "code",
   "execution_count": 23,
   "id": "a0395e4d-15b7-4f2b-93fe-cf11e1bf43b5",
   "metadata": {},
   "outputs": [],
   "source": [
    "# Vaccination trend over time"
   ]
  },
  {
   "cell_type": "code",
   "execution_count": 24,
   "id": "f828eada-6ec3-434e-b0c0-f7a61b57a8d9",
   "metadata": {},
   "outputs": [
    {
     "data": {
      "image/png": "[encoded data removed]",
      "text/plain": [
       "<Figure size 1200x500 with 1 Axes>"
      ]
     },
     "metadata": {},
     "output_type": "display_data"
    }
   ],
   "source": [
    "daily_vaccine = covid_vaccine.groupby('Updated On')['Total Individuals Vaccinated'].sum().reset_index()\n",
    "\n",
    "plt.figure(figsize=(12,5))\n",
    "plt.plot(daily_vaccine['Updated On'], daily_vaccine['Total Individuals Vaccinated'], color='green', marker='o', linestyle='dashed')\n",
    "plt.xlabel('Date')\n",
    "plt.ylabel('Total Vaccinations')\n",
    "plt.title('Daily Vaccinations in India')\n",
    "plt.xticks(rotation=45)\n",
    "plt.grid()\n",
    "plt.show()"
   ]
  },
  {
   "cell_type": "code",
   "execution_count": 25,
   "id": "36596f1a-9d7a-459c-b0e6-b763cbea4555",
   "metadata": {},
   "outputs": [],
   "source": [
    "# 7️⃣ Testing Analysis\n",
    "## Top 10 states with the highest testing"
   ]
  },
  {
   "cell_type": "code",
   "execution_count": 26,
   "id": "2157ebac-cec9-4356-b314-118fc87e528e",
   "metadata": {},
   "outputs": [
    {
     "name": "stdout",
     "output_type": "stream",
     "text": [
      "             State  TotalSamples\n",
      "33   Uttar Pradesh    67897856.0\n",
      "20     Maharashtra    49905065.0\n",
      "15       Karnataka    40104915.0\n",
      "30      Tamil Nadu    39002757.0\n",
      "4            Bihar    38820518.0\n",
      "16          Kerala    28745545.0\n",
      "10         Gujarat    26192626.0\n",
      "1   Andhra Pradesh    25311733.0\n",
      "8            Delhi    24333906.0\n",
      "31       Telangana    22991849.0\n"
     ]
    }
   ],
   "source": [
    "statewise_testing = covid_testing.groupby('State')['TotalSamples'].max().reset_index()\n",
    "statewise_testing = statewise_testing.sort_values(by='TotalSamples', ascending=False).head(10)\n",
    "print(statewise_testing)\n"
   ]
  },
  {
   "cell_type": "code",
   "execution_count": 27,
   "id": "eec4d7ac-54bd-4876-87dd-dc36063fbe3d",
   "metadata": {},
   "outputs": [],
   "source": [
    "## Testing trend over time"
   ]
  },
  {
   "cell_type": "code",
   "execution_count": 28,
   "id": "aba89f59-5098-448e-b9b7-0ff78c33b587",
   "metadata": {},
   "outputs": [
    {
     "data": {
      "image/png": "[encoded data removed]",
      "text/plain": [
       "<Figure size 1200x500 with 1 Axes>"
      ]
     },
     "metadata": {},
     "output_type": "display_data"
    }
   ],
   "source": [
    "daily_testing = covid_testing.groupby('Date')['TotalSamples'].sum().reset_index()\n",
    "\n",
    "plt.figure(figsize=(12,5))\n",
    "plt.plot(daily_testing['Date'], daily_testing['TotalSamples'], color='blue', marker='o', linestyle='dashed')\n",
    "plt.xlabel('Date')\n",
    "plt.ylabel('Total Tests Conducted')\n",
    "plt.title('COVID-19 Testing Over Time')\n",
    "plt.xticks(rotation=45)\n",
    "plt.grid()\n",
    "plt.show()\n"
   ]
  },
  {
   "cell_type": "code",
   "execution_count": 29,
   "id": "63cc31aa-2c3c-463e-bb85-b5851e0569a4",
   "metadata": {},
   "outputs": [],
   "source": [
    "# 8️⃣ Correlation Analysis\n",
    "## Check the relationship between cases, testing, and vaccination."
   ]
  },
  {
   "cell_type": "code",
   "execution_count": 30,
   "id": "0b9f9f3f-989e-42c2-90fd-77edb457af06",
   "metadata": {},
   "outputs": [],
   "source": [
    "## merge dataset on date and state"
   ]
  },
  {
   "cell_type": "code",
   "execution_count": 31,
   "id": "c7813e32-af1e-4d3c-82bb-14f989b68bd2",
   "metadata": {},
   "outputs": [
    {
     "ename": "KeyError",
     "evalue": "'State/UnionTerritory'",
     "output_type": "error",
     "traceback": [
      "\u001b[1;31m---------------------------------------------------------------------------\u001b[0m",
      "\u001b[1;31mKeyError\u001b[0m                                  Traceback (most recent call last)",
      "\u001b[1;32m~\\AppData\\Local\\Temp\\ipykernel_21044\\1213070172.py\u001b[0m in \u001b[0;36m?\u001b[1;34m()\u001b[0m\n\u001b[1;32m----> 1\u001b[1;33m \u001b[0mmerged_data\u001b[0m \u001b[1;33m=\u001b[0m \u001b[0mcovid_cases\u001b[0m\u001b[1;33m.\u001b[0m\u001b[0mmerge\u001b[0m\u001b[1;33m(\u001b[0m\u001b[0mcovid_testing\u001b[0m\u001b[1;33m,\u001b[0m \u001b[0mon\u001b[0m\u001b[1;33m=\u001b[0m\u001b[1;33m[\u001b[0m\u001b[1;34m'State/UnionTerritory'\u001b[0m\u001b[1;33m,\u001b[0m \u001b[1;34m'Date'\u001b[0m\u001b[1;33m]\u001b[0m\u001b[1;33m,\u001b[0m \u001b[0mhow\u001b[0m\u001b[1;33m=\u001b[0m\u001b[1;34m'inner'\u001b[0m\u001b[1;33m)\u001b[0m\u001b[1;33m\u001b[0m\u001b[1;33m\u001b[0m\u001b[0m\n\u001b[0m\u001b[0;32m      2\u001b[0m \u001b[0mmerged_data\u001b[0m \u001b[1;33m=\u001b[0m \u001b[0mmerged_data\u001b[0m\u001b[1;33m.\u001b[0m\u001b[0mmerge\u001b[0m\u001b[1;33m(\u001b[0m\u001b[0mcovid_vaccine\u001b[0m\u001b[1;33m,\u001b[0m \u001b[0mleft_on\u001b[0m\u001b[1;33m=\u001b[0m\u001b[1;33m[\u001b[0m\u001b[1;34m'State/UnionTerritory'\u001b[0m\u001b[1;33m,\u001b[0m \u001b[1;34m'Date'\u001b[0m\u001b[1;33m]\u001b[0m\u001b[1;33m,\u001b[0m \u001b[0mright_on\u001b[0m\u001b[1;33m=\u001b[0m\u001b[1;33m[\u001b[0m\u001b[1;34m'State'\u001b[0m\u001b[1;33m,\u001b[0m \u001b[1;34m'Updated On'\u001b[0m\u001b[1;33m]\u001b[0m\u001b[1;33m,\u001b[0m \u001b[0mhow\u001b[0m\u001b[1;33m=\u001b[0m\u001b[1;34m'inner'\u001b[0m\u001b[1;33m)\u001b[0m\u001b[1;33m\u001b[0m\u001b[1;33m\u001b[0m\u001b[0m\n",
      "\u001b[1;32m~\\AppData\\Local\\Programs\\Python\\Python311\\Lib\\site-packages\\pandas\\core\\frame.py\u001b[0m in \u001b[0;36m?\u001b[1;34m(self, right, how, on, left_on, right_on, left_index, right_index, sort, suffixes, copy, indicator, validate)\u001b[0m\n\u001b[0;32m  10801\u001b[0m         \u001b[0mvalidate\u001b[0m\u001b[1;33m:\u001b[0m \u001b[0mMergeValidate\u001b[0m \u001b[1;33m|\u001b[0m \u001b[1;32mNone\u001b[0m \u001b[1;33m=\u001b[0m \u001b[1;32mNone\u001b[0m\u001b[1;33m,\u001b[0m\u001b[1;33m\u001b[0m\u001b[1;33m\u001b[0m\u001b[0m\n\u001b[0;32m  10802\u001b[0m     ) -> DataFrame:\n\u001b[0;32m  10803\u001b[0m         \u001b[1;32mfrom\u001b[0m \u001b[0mpandas\u001b[0m\u001b[1;33m.\u001b[0m\u001b[0mcore\u001b[0m\u001b[1;33m.\u001b[0m\u001b[0mreshape\u001b[0m\u001b[1;33m.\u001b[0m\u001b[0mmerge\u001b[0m \u001b[1;32mimport\u001b[0m \u001b[0mmerge\u001b[0m\u001b[1;33m\u001b[0m\u001b[1;33m\u001b[0m\u001b[0m\n\u001b[0;32m  10804\u001b[0m \u001b[1;33m\u001b[0m\u001b[0m\n\u001b[1;32m> 10805\u001b[1;33m         return merge(\n\u001b[0m\u001b[0;32m  10806\u001b[0m             \u001b[0mself\u001b[0m\u001b[1;33m,\u001b[0m\u001b[1;33m\u001b[0m\u001b[1;33m\u001b[0m\u001b[0m\n\u001b[0;32m  10807\u001b[0m             \u001b[0mright\u001b[0m\u001b[1;33m,\u001b[0m\u001b[1;33m\u001b[0m\u001b[1;33m\u001b[0m\u001b[0m\n\u001b[0;32m  10808\u001b[0m             \u001b[0mhow\u001b[0m\u001b[1;33m=\u001b[0m\u001b[0mhow\u001b[0m\u001b[1;33m,\u001b[0m\u001b[1;33m\u001b[0m\u001b[1;33m\u001b[0m\u001b[0m\n",
      "\u001b[1;32m~\\AppData\\Local\\Programs\\Python\\Python311\\Lib\\site-packages\\pandas\\core\\reshape\\merge.py\u001b[0m in \u001b[0;36m?\u001b[1;34m(left, right, how, on, left_on, right_on, left_index, right_index, sort, suffixes, copy, indicator, validate)\u001b[0m\n\u001b[0;32m    166\u001b[0m             \u001b[0mvalidate\u001b[0m\u001b[1;33m=\u001b[0m\u001b[0mvalidate\u001b[0m\u001b[1;33m,\u001b[0m\u001b[1;33m\u001b[0m\u001b[1;33m\u001b[0m\u001b[0m\n\u001b[0;32m    167\u001b[0m             \u001b[0mcopy\u001b[0m\u001b[1;33m=\u001b[0m\u001b[0mcopy\u001b[0m\u001b[1;33m,\u001b[0m\u001b[1;33m\u001b[0m\u001b[1;33m\u001b[0m\u001b[0m\n\u001b[0;32m    168\u001b[0m         )\n\u001b[0;32m    169\u001b[0m     \u001b[1;32melse\u001b[0m\u001b[1;33m:\u001b[0m\u001b[1;33m\u001b[0m\u001b[1;33m\u001b[0m\u001b[0m\n\u001b[1;32m--> 170\u001b[1;33m         op = _MergeOperation(\n\u001b[0m\u001b[0;32m    171\u001b[0m             \u001b[0mleft_df\u001b[0m\u001b[1;33m,\u001b[0m\u001b[1;33m\u001b[0m\u001b[1;33m\u001b[0m\u001b[0m\n\u001b[0;32m    172\u001b[0m             \u001b[0mright_df\u001b[0m\u001b[1;33m,\u001b[0m\u001b[1;33m\u001b[0m\u001b[1;33m\u001b[0m\u001b[0m\n\u001b[0;32m    173\u001b[0m             \u001b[0mhow\u001b[0m\u001b[1;33m=\u001b[0m\u001b[0mhow\u001b[0m\u001b[1;33m,\u001b[0m\u001b[1;33m\u001b[0m\u001b[1;33m\u001b[0m\u001b[0m\n",
      "\u001b[1;32m~\\AppData\\Local\\Programs\\Python\\Python311\\Lib\\site-packages\\pandas\\core\\reshape\\merge.py\u001b[0m in \u001b[0;36m?\u001b[1;34m(self, left, right, how, on, left_on, right_on, left_index, right_index, sort, suffixes, indicator, validate)\u001b[0m\n\u001b[0;32m    790\u001b[0m             \u001b[0mself\u001b[0m\u001b[1;33m.\u001b[0m\u001b[0mright_join_keys\u001b[0m\u001b[1;33m,\u001b[0m\u001b[1;33m\u001b[0m\u001b[1;33m\u001b[0m\u001b[0m\n\u001b[0;32m    791\u001b[0m             \u001b[0mself\u001b[0m\u001b[1;33m.\u001b[0m\u001b[0mjoin_names\u001b[0m\u001b[1;33m,\u001b[0m\u001b[1;33m\u001b[0m\u001b[1;33m\u001b[0m\u001b[0m\n\u001b[0;32m    792\u001b[0m             \u001b[0mleft_drop\u001b[0m\u001b[1;33m,\u001b[0m\u001b[1;33m\u001b[0m\u001b[1;33m\u001b[0m\u001b[0m\n\u001b[0;32m    793\u001b[0m             \u001b[0mright_drop\u001b[0m\u001b[1;33m,\u001b[0m\u001b[1;33m\u001b[0m\u001b[1;33m\u001b[0m\u001b[0m\n\u001b[1;32m--> 794\u001b[1;33m         ) = self._get_merge_keys()\n\u001b[0m\u001b[0;32m    795\u001b[0m \u001b[1;33m\u001b[0m\u001b[0m\n\u001b[0;32m    796\u001b[0m         \u001b[1;32mif\u001b[0m \u001b[0mleft_drop\u001b[0m\u001b[1;33m:\u001b[0m\u001b[1;33m\u001b[0m\u001b[1;33m\u001b[0m\u001b[0m\n\u001b[0;32m    797\u001b[0m             \u001b[0mself\u001b[0m\u001b[1;33m.\u001b[0m\u001b[0mleft\u001b[0m \u001b[1;33m=\u001b[0m \u001b[0mself\u001b[0m\u001b[1;33m.\u001b[0m\u001b[0mleft\u001b[0m\u001b[1;33m.\u001b[0m\u001b[0m_drop_labels_or_levels\u001b[0m\u001b[1;33m(\u001b[0m\u001b[0mleft_drop\u001b[0m\u001b[1;33m)\u001b[0m\u001b[1;33m\u001b[0m\u001b[1;33m\u001b[0m\u001b[0m\n",
      "\u001b[1;32m~\\AppData\\Local\\Programs\\Python\\Python311\\Lib\\site-packages\\pandas\\core\\reshape\\merge.py\u001b[0m in \u001b[0;36m?\u001b[1;34m(self)\u001b[0m\n\u001b[0;32m   1293\u001b[0m                         \u001b[1;31m# Then we're either Hashable or a wrong-length arraylike,\u001b[0m\u001b[1;33m\u001b[0m\u001b[1;33m\u001b[0m\u001b[0m\n\u001b[0;32m   1294\u001b[0m                         \u001b[1;31m#  the latter of which will raise\u001b[0m\u001b[1;33m\u001b[0m\u001b[1;33m\u001b[0m\u001b[0m\n\u001b[0;32m   1295\u001b[0m                         \u001b[0mrk\u001b[0m \u001b[1;33m=\u001b[0m \u001b[0mcast\u001b[0m\u001b[1;33m(\u001b[0m\u001b[0mHashable\u001b[0m\u001b[1;33m,\u001b[0m \u001b[0mrk\u001b[0m\u001b[1;33m)\u001b[0m\u001b[1;33m\u001b[0m\u001b[1;33m\u001b[0m\u001b[0m\n\u001b[0;32m   1296\u001b[0m                         \u001b[1;32mif\u001b[0m \u001b[0mrk\u001b[0m \u001b[1;32mis\u001b[0m \u001b[1;32mnot\u001b[0m \u001b[1;32mNone\u001b[0m\u001b[1;33m:\u001b[0m\u001b[1;33m\u001b[0m\u001b[1;33m\u001b[0m\u001b[0m\n\u001b[1;32m-> 1297\u001b[1;33m                             \u001b[0mright_keys\u001b[0m\u001b[1;33m.\u001b[0m\u001b[0mappend\u001b[0m\u001b[1;33m(\u001b[0m\u001b[0mright\u001b[0m\u001b[1;33m.\u001b[0m\u001b[0m_get_label_or_level_values\u001b[0m\u001b[1;33m(\u001b[0m\u001b[0mrk\u001b[0m\u001b[1;33m)\u001b[0m\u001b[1;33m)\u001b[0m\u001b[1;33m\u001b[0m\u001b[1;33m\u001b[0m\u001b[0m\n\u001b[0m\u001b[0;32m   1298\u001b[0m                         \u001b[1;32melse\u001b[0m\u001b[1;33m:\u001b[0m\u001b[1;33m\u001b[0m\u001b[1;33m\u001b[0m\u001b[0m\n\u001b[0;32m   1299\u001b[0m                             \u001b[1;31m# work-around for merge_asof(right_index=True)\u001b[0m\u001b[1;33m\u001b[0m\u001b[1;33m\u001b[0m\u001b[0m\n\u001b[0;32m   1300\u001b[0m                             \u001b[0mright_keys\u001b[0m\u001b[1;33m.\u001b[0m\u001b[0mappend\u001b[0m\u001b[1;33m(\u001b[0m\u001b[0mright\u001b[0m\u001b[1;33m.\u001b[0m\u001b[0mindex\u001b[0m\u001b[1;33m.\u001b[0m\u001b[0m_values\u001b[0m\u001b[1;33m)\u001b[0m\u001b[1;33m\u001b[0m\u001b[1;33m\u001b[0m\u001b[0m\n",
      "\u001b[1;32m~\\AppData\\Local\\Programs\\Python\\Python311\\Lib\\site-packages\\pandas\\core\\generic.py\u001b[0m in \u001b[0;36m?\u001b[1;34m(self, key, axis)\u001b[0m\n\u001b[0;32m   1906\u001b[0m             \u001b[0mvalues\u001b[0m \u001b[1;33m=\u001b[0m \u001b[0mself\u001b[0m\u001b[1;33m.\u001b[0m\u001b[0mxs\u001b[0m\u001b[1;33m(\u001b[0m\u001b[0mkey\u001b[0m\u001b[1;33m,\u001b[0m \u001b[0maxis\u001b[0m\u001b[1;33m=\u001b[0m\u001b[0mother_axes\u001b[0m\u001b[1;33m[\u001b[0m\u001b[1;36m0\u001b[0m\u001b[1;33m]\u001b[0m\u001b[1;33m)\u001b[0m\u001b[1;33m.\u001b[0m\u001b[0m_values\u001b[0m\u001b[1;33m\u001b[0m\u001b[1;33m\u001b[0m\u001b[0m\n\u001b[0;32m   1907\u001b[0m         \u001b[1;32melif\u001b[0m \u001b[0mself\u001b[0m\u001b[1;33m.\u001b[0m\u001b[0m_is_level_reference\u001b[0m\u001b[1;33m(\u001b[0m\u001b[0mkey\u001b[0m\u001b[1;33m,\u001b[0m \u001b[0maxis\u001b[0m\u001b[1;33m=\u001b[0m\u001b[0maxis\u001b[0m\u001b[1;33m)\u001b[0m\u001b[1;33m:\u001b[0m\u001b[1;33m\u001b[0m\u001b[1;33m\u001b[0m\u001b[0m\n\u001b[0;32m   1908\u001b[0m             \u001b[0mvalues\u001b[0m \u001b[1;33m=\u001b[0m \u001b[0mself\u001b[0m\u001b[1;33m.\u001b[0m\u001b[0maxes\u001b[0m\u001b[1;33m[\u001b[0m\u001b[0maxis\u001b[0m\u001b[1;33m]\u001b[0m\u001b[1;33m.\u001b[0m\u001b[0mget_level_values\u001b[0m\u001b[1;33m(\u001b[0m\u001b[0mkey\u001b[0m\u001b[1;33m)\u001b[0m\u001b[1;33m.\u001b[0m\u001b[0m_values\u001b[0m\u001b[1;33m\u001b[0m\u001b[1;33m\u001b[0m\u001b[0m\n\u001b[0;32m   1909\u001b[0m         \u001b[1;32melse\u001b[0m\u001b[1;33m:\u001b[0m\u001b[1;33m\u001b[0m\u001b[1;33m\u001b[0m\u001b[0m\n\u001b[1;32m-> 1910\u001b[1;33m             \u001b[1;32mraise\u001b[0m \u001b[0mKeyError\u001b[0m\u001b[1;33m(\u001b[0m\u001b[0mkey\u001b[0m\u001b[1;33m)\u001b[0m\u001b[1;33m\u001b[0m\u001b[1;33m\u001b[0m\u001b[0m\n\u001b[0m\u001b[0;32m   1911\u001b[0m \u001b[1;33m\u001b[0m\u001b[0m\n\u001b[0;32m   1912\u001b[0m         \u001b[1;31m# Check for duplicates\u001b[0m\u001b[1;33m\u001b[0m\u001b[1;33m\u001b[0m\u001b[0m\n\u001b[0;32m   1913\u001b[0m         \u001b[1;32mif\u001b[0m \u001b[0mvalues\u001b[0m\u001b[1;33m.\u001b[0m\u001b[0mndim\u001b[0m \u001b[1;33m>\u001b[0m \u001b[1;36m1\u001b[0m\u001b[1;33m:\u001b[0m\u001b[1;33m\u001b[0m\u001b[1;33m\u001b[0m\u001b[0m\n",
      "\u001b[1;31mKeyError\u001b[0m: 'State/UnionTerritory'"
     ]
    }
   ],
   "source": [
    "merged_data = covid_cases.merge(covid_testing, on=['State/UnionTerritory', 'Date'], how='inner')\n",
    "merged_data = merged_data.merge(covid_vaccine, left_on=['State/UnionTerritory', 'Date'], right_on=['State', 'Updated On'], how='inner')"
   ]
  },
  {
   "cell_type": "code",
   "execution_count": 37,
   "id": "cbcc5fa6-f154-4cf5-a088-0499885155c2",
   "metadata": {},
   "outputs": [
    {
     "name": "stdout",
     "output_type": "stream",
     "text": [
      "Covid Cases Columns: Index(['Sno', 'Date', 'Time', 'State', 'ConfirmedIndianNational',\n",
      "       'ConfirmedForeignNational', 'Cured', 'Deaths', 'Confirmed'],\n",
      "      dtype='object')\n",
      "Covid Testing Columns: Index(['Date', 'State', 'TotalSamples', 'Negative', 'Positive'], dtype='object')\n",
      "Covid Vaccine Columns: Index(['Updated On', 'State', 'Total Doses Administered', 'Sessions',\n",
      "       ' Sites ', 'First Dose Administered', 'Second Dose Administered',\n",
      "       'Male (Doses Administered)', 'Female (Doses Administered)',\n",
      "       'Transgender (Doses Administered)', ' Covaxin (Doses Administered)',\n",
      "       'CoviShield (Doses Administered)', 'Sputnik V (Doses Administered)',\n",
      "       'AEFI', '18-44 Years (Doses Administered)',\n",
      "       '45-60 Years (Doses Administered)', '60+ Years (Doses Administered)',\n",
      "       '18-44 Years(Individuals Vaccinated)',\n",
      "       '45-60 Years(Individuals Vaccinated)',\n",
      "       '60+ Years(Individuals Vaccinated)', 'Male(Individuals Vaccinated)',\n",
      "       'Female(Individuals Vaccinated)', 'Transgender(Individuals Vaccinated)',\n",
      "       'Total Individuals Vaccinated'],\n",
      "      dtype='object')\n"
     ]
    }
   ],
   "source": [
    "#detecting the names of column\n",
    "print(\"Covid Cases Columns:\", covid_cases.columns)\n",
    "print(\"Covid Testing Columns:\", covid_testing.columns)\n",
    "print(\"Covid Vaccine Columns:\", covid_vaccine.columns)\n"
   ]
  },
  {
   "cell_type": "code",
   "execution_count": 38,
   "id": "33b884b4-254e-4945-acdd-86e9de249f4a",
   "metadata": {},
   "outputs": [],
   "source": [
    "# rename the column\n",
    "covid_cases.rename(columns={'State/UnionTerritory': 'State'}, inplace=True)\n"
   ]
  },
  {
   "cell_type": "code",
   "execution_count": 39,
   "id": "fd0c9ac3-b59b-460d-8bee-31567958c155",
   "metadata": {},
   "outputs": [],
   "source": [
    "# Convert Date Columns to datetime Format\n",
    "covid_cases['Date'] = pd.to_datetime(covid_cases['Date'])\n",
    "covid_testing['Date'] = pd.to_datetime(covid_testing['Date'])\n",
    "covid_vaccine['Updated On'] = pd.to_datetime(covid_vaccine['Updated On'])\n"
   ]
  },
  {
   "cell_type": "code",
   "execution_count": 40,
   "id": "bc1afc4e-d2d2-4ba4-9802-2bb0bca214fc",
   "metadata": {},
   "outputs": [],
   "source": [
    "# now perform the merge operation\n",
    "merged_data = covid_cases.merge(covid_testing, on=['State', 'Date'], how='inner')\n",
    "merged_data = merged_data.merge(covid_vaccine, left_on=['State', 'Date'], right_on=['State', 'Updated On'], how='inner')\n"
   ]
  },
  {
   "cell_type": "code",
   "execution_count": 41,
   "id": "6103fdba-2a7c-41ad-aed2-f9d7ae848b9b",
   "metadata": {},
   "outputs": [],
   "source": [
    "# select the relavent column\n",
    "merged_data = merged_data[['Confirmed', 'TotalSamples', 'Total Individuals Vaccinated']]\n"
   ]
  },
  {
   "cell_type": "code",
   "execution_count": 42,
   "id": "01867a9b-f904-4f92-96ad-46384d42474a",
   "metadata": {},
   "outputs": [
    {
     "name": "stdout",
     "output_type": "stream",
     "text": [
      "                              Confirmed  TotalSamples  \\\n",
      "Confirmed                      1.000000      0.733489   \n",
      "TotalSamples                   0.733489      1.000000   \n",
      "Total Individuals Vaccinated   0.453691      0.443265   \n",
      "\n",
      "                              Total Individuals Vaccinated  \n",
      "Confirmed                                         0.453691  \n",
      "TotalSamples                                      0.443265  \n",
      "Total Individuals Vaccinated                      1.000000  \n"
     ]
    }
   ],
   "source": [
    "#compute the corelation\n",
    "correlation_matrix = merged_data.corr()\n",
    "print(correlation_matrix)"
   ]
  },
  {
   "cell_type": "code",
   "execution_count": 43,
   "id": "4ed57acc-3d6a-4a86-be8b-d2739f63952f",
   "metadata": {},
   "outputs": [],
   "source": [
    "# 9️⃣ Summary Report"
   ]
  },
  {
   "cell_type": "code",
   "execution_count": 44,
   "id": "77e6bb51-461c-4d11-af6c-479b752e3ed8",
   "metadata": {},
   "outputs": [
    {
     "name": "stdout",
     "output_type": "stream",
     "text": [
      "   Total Cases  Total Deaths  Total Recovered  Total Tests  Total Vaccinated\n",
      "0      6363442        134201          6159676   67897856.0       250656880.0\n"
     ]
    }
   ],
   "source": [
    "summary = pd.DataFrame({\n",
    "    'Total Cases': [covid_cases['Confirmed'].max()],\n",
    "    'Total Deaths': [covid_cases['Deaths'].max()],\n",
    "    'Total Recovered': [covid_cases['Cured'].max()],\n",
    "    'Total Tests': [covid_testing['TotalSamples'].max()],\n",
    "    'Total Vaccinated': [covid_vaccine['Total Individuals Vaccinated'].max()]\n",
    "})\n",
    "\n",
    "print(summary)"
   ]
  },
  {
   "cell_type": "code",
   "execution_count": null,
   "id": "d8f0b2e3-7dc7-4521-bc59-6ebbbeb7e81a",
   "metadata": {},
   "outputs": [],
   "source": []
  }
 ],
 "metadata": {
  "kernelspec": {
   "display_name": "Python 3 (ipykernel)",
   "language": "python",
   "name": "python3"
  },
  "language_info": {
   "codemirror_mode": {
    "name": "ipython",
    "version": 3
   },
   "file_extension": ".py",
   "mimetype": "text/x-python",
   "name": "python",
   "nbconvert_exporter": "python",
   "pygments_lexer": "ipython3",
   "version": "3.11.6"
  }
 },
 "nbformat": 4,
 "nbformat_minor": 5
}
